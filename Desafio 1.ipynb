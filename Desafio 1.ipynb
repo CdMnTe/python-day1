{
 "cells": [
  {
   "cell_type": "markdown",
   "metadata": {},
   "source": [
    "# Tendo como dados de entrada a altura de uma pessoa, construa um algoritmo que calcule seu peso ideal, usando a seguinte fórmula: (72.7*altura) - 58"
   ]
  },
  {
   "cell_type": "code",
   "execution_count": null,
   "metadata": {},
   "outputs": [],
   "source": [
    "altura = float(input(\"Qual a sua altura? \\n\"))\n",
    "pi = (72.7*altura)-58\n",
    "print (\"Seu peso ideal é\", pi)"
   ]
  },
  {
   "cell_type": "markdown",
   "metadata": {},
   "source": [
    "# Faça um Programa que pergunte em que turno você estuda. Peça para digitar M-matutino ou V-Vespertino ou N- Noturno. Imprima a mensagem \"Bom Dia!\", \"Boa Tarde!\" ou \"Boa Noite!\" ou \"Valor Inválido!\", conforme o caso."
   ]
  },
  {
   "cell_type": "code",
   "execution_count": null,
   "metadata": {},
   "outputs": [],
   "source": [
    "turno = input(\"Em que turno você estuda?\" \"\\n M - Matutino\" \"\\n V - Vespertino\" \"\\n N - Noturno \\n\")\n",
    "if turno == \"M\":\n",
    "    print (\"Bom dia!\")\n",
    "elif turno == \"V\":\n",
    "    print (\"Boa tarde!\")\n",
    "elif turno == \"N\":\n",
    "    print (\"Boa noite!\")\n",
    "else:\n",
    "    print (\"Valor Inválido!\")"
   ]
  },
  {
   "cell_type": "markdown",
   "metadata": {},
   "source": [
    "# A série de Fibonacci é formada pela seqüência 1,1,2,3,5,8,13,21,34,55,... Faça um programa capaz de gerar a série até o n−ésimo termo. Qual numero voce deseja receber a sequencia fibonacci?"
   ]
  },
  {
   "cell_type": "code",
   "execution_count": null,
   "metadata": {},
   "outputs": [],
   "source": [
    "n = int(input(\"Digite o número que você deseja receber a sequência fibonacci? \\n\"))\n",
    "numX1 = 0\n",
    "numX2 = 1\n",
    "num = 0\n",
    "\n",
    "    \n",
    "x = range (0,n)\n",
    "for i in x:\n",
    "        num = numX1 + numX2\n",
    "        numX1 = numX2\n",
    "        numX2 = num\n",
    "        \n",
    "if n == 0:\n",
    "    print (1)\n",
    "else:\n",
    "    print(num)"
   ]
  },
  {
   "cell_type": "markdown",
   "metadata": {},
   "source": [
    "# Reverso do número. Faça uma função que retorne o reverso de um número inteiro informado."
   ]
  },
  {
   "cell_type": "code",
   "execution_count": null,
   "metadata": {},
   "outputs": [],
   "source": [
    "N = str(input(\"Digite o número que você deseja inverter! \\n\"))\n",
    "print(N[::-1])"
   ]
  },
  {
   "cell_type": "code",
   "execution_count": null,
   "metadata": {},
   "outputs": [],
   "source": []
  }
 ],
 "metadata": {
  "kernelspec": {
   "display_name": "Python 3",
   "language": "python",
   "name": "python3"
  },
  "language_info": {
   "codemirror_mode": {
    "name": "ipython",
    "version": 3
   },
   "file_extension": ".py",
   "mimetype": "text/x-python",
   "name": "python",
   "nbconvert_exporter": "python",
   "pygments_lexer": "ipython3",
   "version": "3.7.4"
  }
 },
 "nbformat": 4,
 "nbformat_minor": 2
}
